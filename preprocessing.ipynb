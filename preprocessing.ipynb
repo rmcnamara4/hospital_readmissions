{
 "cells": [
  {
   "cell_type": "code",
   "execution_count": 182,
   "id": "a857997b",
   "metadata": {},
   "outputs": [],
   "source": [
    "# import libraries \n",
    "import pandas as pd \n",
    "import matplotlib.pyplot as plt \n",
    "import numpy as np\n",
    "\n",
    "import warnings\n",
    "warnings.filterwarnings(\"ignore\")"
   ]
  },
  {
   "cell_type": "code",
   "execution_count": 183,
   "id": "5ec7bafb",
   "metadata": {},
   "outputs": [],
   "source": [
    "# load data \n",
    "data = pd.read_csv('./diabetic_data.csv')"
   ]
  },
  {
   "cell_type": "code",
   "execution_count": 184,
   "id": "0a6be29d",
   "metadata": {},
   "outputs": [],
   "source": [
    "# split data into X and y \n",
    "X = data.drop('readmitted', axis = 1)\n",
    "y = data['readmitted']"
   ]
  },
  {
   "cell_type": "code",
   "execution_count": 185,
   "id": "53d6a208",
   "metadata": {},
   "outputs": [],
   "source": [
    "# make classification binary \n",
    "y = y.replace('>30', 'YES')\n",
    "y = y.replace('<30', 'YES')"
   ]
  },
  {
   "cell_type": "code",
   "execution_count": 186,
   "id": "aa3ccd5e",
   "metadata": {},
   "outputs": [],
   "source": [
    "# drop columns that we don't need \n",
    "columns_to_drop = ['encounter_id', 'patient_nbr', 'weight', 'payer_code', 'medical_specialty', 'examide', 'citoglipton']\n",
    "\n",
    "X = X.drop(columns_to_drop, axis = 1)"
   ]
  },
  {
   "cell_type": "code",
   "execution_count": 208,
   "id": "92e1d049",
   "metadata": {},
   "outputs": [],
   "source": [
    "import re \n",
    "\n",
    "X['diag_1'] = X['diag_1'].astype(str).apply(lambda x: re.sub( r'\\.*$', '', x))"
   ]
  },
  {
   "cell_type": "code",
   "execution_count": 207,
   "id": "a0468cee",
   "metadata": {},
   "outputs": [
    {
     "data": {
      "text/plain": [
       "0         250.83\n",
       "1            276\n",
       "2            648\n",
       "3              8\n",
       "4            197\n",
       "           ...  \n",
       "101761    250.13\n",
       "101762       560\n",
       "101763        38\n",
       "101764       996\n",
       "101765       530\n",
       "Name: diag_1, Length: 101766, dtype: object"
      ]
     },
     "execution_count": 207,
     "metadata": {},
     "output_type": "execute_result"
    }
   ],
   "source": [
    "X['diag_1']"
   ]
  },
  {
   "cell_type": "code",
   "execution_count": 187,
   "id": "841981ab",
   "metadata": {},
   "outputs": [],
   "source": [
    "# split the data into dev and test set \n",
    "from sklearn.model_selection import train_test_split\n",
    "\n",
    "X_dev, X_test, y_dev, y_test = train_test_split(X, y, stratify = y, test_size = 0.2, random_state = 10)\n",
    "X_train, X_val, y_train, y_val = train_test_split(X_dev, y_dev, stratify = y_dev, test_size = 0.2, random_state = 10)"
   ]
  },
  {
   "cell_type": "code",
   "execution_count": 188,
   "id": "0018d9b7",
   "metadata": {},
   "outputs": [],
   "source": [
    "# impute missing values for categorical variables \n",
    "from sklearn.impute import SimpleImputer \n",
    "\n",
    "feature_names = X.columns\n",
    "\n",
    "imp = SimpleImputer(missing_values = '?', strategy = 'most_frequent')\n",
    "\n",
    "X_train = pd.DataFrame(imp.fit_transform(X_train), columns = feature_names)\n",
    "X_val = pd.DataFrame(imp.transform(X_val), columns = feature_names)\n",
    "X_test = pd.DataFrame(imp.transform(X_test), columns = feature_names)"
   ]
  },
  {
   "cell_type": "code",
   "execution_count": 189,
   "id": "ec1ea295",
   "metadata": {},
   "outputs": [],
   "source": [
    "# label encode target variable \n",
    "from sklearn.preprocessing import LabelEncoder \n",
    "\n",
    "le = LabelEncoder() \n",
    "\n",
    "y_train = pd.Series(le.fit_transform(y_train))\n",
    "y_val = pd.Series(le.transform(y_val))\n",
    "y_test = pd.Series(le.transform(y_test))"
   ]
  },
  {
   "cell_type": "code",
   "execution_count": 190,
   "id": "203b48f4",
   "metadata": {},
   "outputs": [],
   "source": [
    "# create pipeline for preprocessing \n",
    "from sklearn.compose import make_column_transformer \n",
    "from sklearn.preprocessing import OrdinalEncoder, StandardScaler\n",
    "from category_encoders import TargetEncoder \n",
    "\n",
    "te_features = ['race', 'gender', 'admission_type_id', 'discharge_disposition_id', 'admission_source_id',\n",
    "              'diag_1', 'diag_2', 'diag_3', 'max_glu_serum', 'A1Cresult', 'metformin', \n",
    "              'repaglinide', 'nateglinide', 'chlorpropamide', 'glimepiride', 'acetohexamide', \n",
    "              'glipizide', 'glyburide', 'tolbutamide', 'pioglitazone', 'rosiglitazone', \n",
    "              'acarbose', 'miglitol', 'troglitazone', 'tolazamide', \n",
    "              'insulin', 'glyburide-metformin', 'glipizide-metformin', 'glimepiride-pioglitazone', \n",
    "              'metformin-rosiglitazone', 'metformin-pioglitazone', 'change', 'diabetesMed']\n",
    "\n",
    "oe_features = ['age']\n",
    "\n",
    "other_features = []\n",
    "for i in feature_names: \n",
    "    if i not in (te_features + oe_features): \n",
    "        other_features.append(i)\n",
    "\n",
    "preprocess = make_column_transformer((OrdinalEncoder(), oe_features), \n",
    "                                    (TargetEncoder(), te_features), remainder = 'passthrough')"
   ]
  },
  {
   "cell_type": "code",
   "execution_count": 191,
   "id": "58531e0d",
   "metadata": {},
   "outputs": [],
   "source": [
    "# target encode variables \n",
    "X_train = preprocess.fit_transform(X_train, y_train)\n",
    "X_val = preprocess.transform(X_val)\n",
    "X_test = preprocess.transform(X_test)"
   ]
  },
  {
   "cell_type": "code",
   "execution_count": 192,
   "id": "dede0807",
   "metadata": {},
   "outputs": [],
   "source": [
    "# scale the data \n",
    "ss = StandardScaler()\n",
    "\n",
    "X_train = ss.fit_transform(X_train)\n",
    "X_val = ss.fit_transform(X_val)\n",
    "X_test = ss.fit_transform(X_test)"
   ]
  },
  {
   "cell_type": "code",
   "execution_count": 193,
   "id": "6567dbc4",
   "metadata": {},
   "outputs": [],
   "source": [
    "pd.DataFrame(X_train, columns = oe_features + te_features + other_features).to_csv('X_train.csv', index = False)\n",
    "pd.DataFrame(X_val, columns = oe_features + te_features + other_features).to_csv('X_val.csv', index = False)\n",
    "pd.DataFrame(X_test, columns = oe_features + te_features + other_features).to_csv('X_test.csv', index = False)\n",
    "\n",
    "y_train.to_csv('y_train.csv', index = False)\n",
    "y_val.to_csv('y_val.csv', index = False)\n",
    "y_test.to_csv('y_test.csv', index = False)"
   ]
  },
  {
   "cell_type": "markdown",
   "id": "775d8626",
   "metadata": {},
   "source": [
    "Now do it again to make dev and test set!"
   ]
  },
  {
   "cell_type": "code",
   "execution_count": 194,
   "id": "36990e3d",
   "metadata": {},
   "outputs": [],
   "source": [
    "X_dev, X_test, y_dev, y_test = train_test_split(X, y, stratify = y, test_size = 0.2, random_state = 10)\n",
    "\n",
    "# impute missing values for categorical variables \n",
    "from sklearn.impute import SimpleImputer \n",
    "\n",
    "feature_names = X.columns\n",
    "\n",
    "imp = SimpleImputer(missing_values = '?', strategy = 'most_frequent')\n",
    "\n",
    "X_dev = pd.DataFrame(imp.fit_transform(X_dev), columns = feature_names)\n",
    "X_test = pd.DataFrame(imp.transform(X_test), columns = feature_names)\n",
    "\n",
    "le = LabelEncoder() \n",
    "\n",
    "y_dev = pd.Series(le.fit_transform(y_dev))\n",
    "y_test = pd.Series(le.transform(y_test))\n",
    "\n",
    "te_features = ['race', 'gender', 'admission_type_id', 'discharge_disposition_id', 'admission_source_id',\n",
    "              'diag_1', 'diag_2', 'diag_3', 'max_glu_serum', 'A1Cresult', 'metformin', \n",
    "              'repaglinide', 'nateglinide', 'chlorpropamide', 'glimepiride', 'acetohexamide', \n",
    "              'glipizide', 'glyburide', 'tolbutamide', 'pioglitazone', 'rosiglitazone', \n",
    "              'acarbose', 'miglitol', 'troglitazone', 'tolazamide', \n",
    "              'insulin', 'glyburide-metformin', 'glipizide-metformin', 'glimepiride-pioglitazone', \n",
    "              'metformin-rosiglitazone', 'metformin-pioglitazone', 'change', 'diabetesMed']\n",
    "\n",
    "oe_features = ['age']\n",
    "\n",
    "preprocess = make_column_transformer((OrdinalEncoder(), oe_features), \n",
    "                                    (TargetEncoder(), te_features), remainder = 'passthrough')\n",
    "\n",
    "X_dev = preprocess.fit_transform(X_dev, y_dev)\n",
    "X_test = preprocess.transform(X_test)\n",
    "\n",
    "ss = StandardScaler()\n",
    "\n",
    "X_dev = ss.fit_transform(X_dev)\n",
    "X_test = ss.fit_transform(X_test)\n",
    "\n",
    "pd.DataFrame(X_dev, columns = oe_features + te_features + other_features).to_csv('X_dev_final.csv', index = False)\n",
    "pd.DataFrame(X_test, columns = oe_features + te_features + other_features).to_csv('X_test_final.csv', index = False)\n",
    "y_dev.to_csv('y_dev_final.csv', index = False)\n",
    "y_test.to_csv('y_test_final.csv', index = False)"
   ]
  },
  {
   "cell_type": "code",
   "execution_count": null,
   "id": "20ad7557",
   "metadata": {},
   "outputs": [],
   "source": []
  }
 ],
 "metadata": {
  "kernelspec": {
   "display_name": "Python 3 (ipykernel)",
   "language": "python",
   "name": "python3"
  },
  "language_info": {
   "codemirror_mode": {
    "name": "ipython",
    "version": 3
   },
   "file_extension": ".py",
   "mimetype": "text/x-python",
   "name": "python",
   "nbconvert_exporter": "python",
   "pygments_lexer": "ipython3",
   "version": "3.9.7"
  }
 },
 "nbformat": 4,
 "nbformat_minor": 5
}
